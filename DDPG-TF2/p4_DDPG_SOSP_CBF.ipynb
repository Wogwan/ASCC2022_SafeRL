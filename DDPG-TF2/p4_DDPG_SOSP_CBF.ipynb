{
 "cells": [
  {
   "cell_type": "code",
   "execution_count": null,
   "metadata": {},
   "outputs": [
    {
     "ename": "",
     "evalue": "",
     "output_type": "error",
     "traceback": [
      "\u001b[1;31mRunning cells with 'Python 3.8.0 ('AE567p4')' requires ipykernel package.\n",
      "\u001b[1;31mRun the following command to install 'ipykernel' into the Python environment. \n",
      "\u001b[1;31mCommand: 'conda install -n AE567p4 ipykernel --update-deps --force-reinstall'"
     ]
    }
   ],
   "source": [
    "import os\n",
    "\n",
    "os.environ['TF_CPP_MIN_LOG_LEVEL'] = \"3\"\n",
    "import tensorflow as tf\n",
    "import numpy as np\n",
    "import pandas as pd\n",
    "import gym\n",
    "import argparse\n",
    "from scipy.io import savemat\n",
    "import datetime\n",
    "from absl import app\n",
    "from replay_buffer import ReplayBuffer\n",
    "from matplotlib import pyplot as plt\n",
    "from sosp_cbf_learner import LEARNER\n",
    "import matlab\n",
    "import matlab.engine\n",
    "import sys\n",
    "from gym import spaces\n",
    "sys.path.append(r'./matlab_code')\n",
    "from barrier_previous import BARRIER"
   ]
  }
 ],
 "metadata": {
  "kernelspec": {
   "display_name": "Python 3.8.0 ('AE567p4')",
   "language": "python",
   "name": "python3"
  },
  "language_info": {
   "name": "python",
   "version": "3.8.0"
  },
  "orig_nbformat": 4,
  "vscode": {
   "interpreter": {
    "hash": "742a833019a76c8fdf4142b1bb1cd0019b052c9fd25efd7c881ba12c9538e95d"
   }
  }
 },
 "nbformat": 4,
 "nbformat_minor": 2
}
