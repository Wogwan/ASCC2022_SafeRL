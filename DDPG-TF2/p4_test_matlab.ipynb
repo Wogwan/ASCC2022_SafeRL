{
 "cells": [
  {
   "cell_type": "code",
   "execution_count": 1,
   "metadata": {},
   "outputs": [],
   "source": [
    "import matlab\n",
    "import matlab.engine\n",
    "import os\n",
    "import gym\n",
    "import sys\n",
    "import numpy as np"
   ]
  },
  {
   "cell_type": "code",
   "execution_count": 9,
   "metadata": {},
   "outputs": [
    {
     "name": "stdout",
     "output_type": "stream",
     "text": [
      "Current working directory: d:\\one-drive\\OneDrive - Umich\\Desktop\\2022Fall\\Research\\code\\CCTA2022_SafeRL\\DDPG-TF2\n"
     ]
    }
   ],
   "source": [
    "print(\"Current working directory: {0}\".format(os.getcwd()))"
   ]
  },
  {
   "cell_type": "code",
   "execution_count": 25,
   "metadata": {},
   "outputs": [],
   "source": [
    "def build_barrier(eng):\n",
    "    eng.cd(r'D:\\one-drive\\OneDrive - Umich\\Desktop\\2022Fall\\Research\\code\\CCTA2022_SafeRL\\p4-DDPG-TF2\\matlab_code', nargout=0)\n",
    "    aa = 0\n",
    "    c, d, e, f = eng.main_function_test(aa, nargout=0)\n",
    "    return c, d, e, f"
   ]
  },
  {
   "cell_type": "code",
   "execution_count": 21,
   "metadata": {},
   "outputs": [],
   "source": [
    "eng = matlab.engine.start_matlab()\n",
    "env = gym.make('Pendulum-v1')"
   ]
  },
  {
   "cell_type": "code",
   "execution_count": 28,
   "metadata": {},
   "outputs": [
    {
     "ename": "TypeError",
     "evalue": "cannot unpack non-iterable NoneType object",
     "output_type": "error",
     "traceback": [
      "\u001b[1;31m---------------------------------------------------------------------------\u001b[0m",
      "\u001b[1;31mTypeError\u001b[0m                                 Traceback (most recent call last)",
      "Cell \u001b[1;32mIn [28], line 1\u001b[0m\n\u001b[1;32m----> 1\u001b[0m coe, sys_bar, region, sys_d2 \u001b[39m=\u001b[39m build_barrier(eng)\n",
      "Cell \u001b[1;32mIn [25], line 4\u001b[0m, in \u001b[0;36mbuild_barrier\u001b[1;34m(eng)\u001b[0m\n\u001b[0;32m      2\u001b[0m eng\u001b[39m.\u001b[39mcd(\u001b[39mr\u001b[39m\u001b[39m'\u001b[39m\u001b[39mD:\u001b[39m\u001b[39m\\\u001b[39m\u001b[39mone-drive\u001b[39m\u001b[39m\\\u001b[39m\u001b[39mOneDrive - Umich\u001b[39m\u001b[39m\\\u001b[39m\u001b[39mDesktop\u001b[39m\u001b[39m\\\u001b[39m\u001b[39m2022Fall\u001b[39m\u001b[39m\\\u001b[39m\u001b[39mResearch\u001b[39m\u001b[39m\\\u001b[39m\u001b[39mcode\u001b[39m\u001b[39m\\\u001b[39m\u001b[39mCCTA2022_SafeRL\u001b[39m\u001b[39m\\\u001b[39m\u001b[39mp4-DDPG-TF2\u001b[39m\u001b[39m\\\u001b[39m\u001b[39mmatlab_code\u001b[39m\u001b[39m'\u001b[39m, nargout\u001b[39m=\u001b[39m\u001b[39m0\u001b[39m)\n\u001b[0;32m      3\u001b[0m aa \u001b[39m=\u001b[39m \u001b[39m0\u001b[39m\n\u001b[1;32m----> 4\u001b[0m c, d, e, f \u001b[39m=\u001b[39m eng\u001b[39m.\u001b[39mmain_function_test(aa, nargout\u001b[39m=\u001b[39m\u001b[39m1\u001b[39m)\n\u001b[0;32m      5\u001b[0m \u001b[39mreturn\u001b[39;00m c, d, e, f\n",
      "\u001b[1;31mTypeError\u001b[0m: cannot unpack non-iterable NoneType object"
     ]
    }
   ],
   "source": [
    "coe, sys_bar, region, sys_d2 = build_barrier(eng)"
   ]
  },
  {
   "cell_type": "code",
   "execution_count": 17,
   "metadata": {},
   "outputs": [
    {
     "ename": "EngineError",
     "evalue": "MATLAB function cannot be evaluated",
     "output_type": "error",
     "traceback": [
      "\u001b[1;31m---------------------------------------------------------------------------\u001b[0m",
      "\u001b[1;31mEngineError\u001b[0m                               Traceback (most recent call last)",
      "Cell \u001b[1;32mIn [17], line 3\u001b[0m\n\u001b[0;32m      1\u001b[0m s \u001b[39m=\u001b[39m env\u001b[39m.\u001b[39mreset()\n\u001b[0;32m      2\u001b[0m record \u001b[39m=\u001b[39m env\u001b[39m.\u001b[39munwrapped\u001b[39m.\u001b[39mstate\n\u001b[1;32m----> 3\u001b[0m coe, sys_bar, region, sys_d2 \u001b[39m=\u001b[39m build_barrier(eng)\n",
      "Cell \u001b[1;32mIn [16], line 4\u001b[0m, in \u001b[0;36mbuild_barrier\u001b[1;34m(eng)\u001b[0m\n\u001b[0;32m      2\u001b[0m eng\u001b[39m.\u001b[39mcd(\u001b[39mr\u001b[39m\u001b[39m'\u001b[39m\u001b[39mD:\u001b[39m\u001b[39m\\\u001b[39m\u001b[39mone-drive\u001b[39m\u001b[39m\\\u001b[39m\u001b[39mOneDrive - Umich\u001b[39m\u001b[39m\\\u001b[39m\u001b[39mDesktop\u001b[39m\u001b[39m\\\u001b[39m\u001b[39m2022Fall\u001b[39m\u001b[39m\\\u001b[39m\u001b[39mResearch\u001b[39m\u001b[39m\\\u001b[39m\u001b[39mcode\u001b[39m\u001b[39m\\\u001b[39m\u001b[39mCCTA2022_SafeRL\u001b[39m\u001b[39m\\\u001b[39m\u001b[39mDDPG-TF2\u001b[39m\u001b[39m\\\u001b[39m\u001b[39mmatlab_code\u001b[39m\u001b[39m'\u001b[39m, nargout\u001b[39m=\u001b[39m\u001b[39m1\u001b[39m)\n\u001b[0;32m      3\u001b[0m aa \u001b[39m=\u001b[39m \u001b[39m1\u001b[39m\n\u001b[1;32m----> 4\u001b[0m c, d, e, f \u001b[39m=\u001b[39m eng\u001b[39m.\u001b[39;49mmain_function(aa, nargout\u001b[39m=\u001b[39;49m\u001b[39m0\u001b[39;49m)\n\u001b[0;32m      5\u001b[0m \u001b[39mreturn\u001b[39;00m c, d, e, f\n",
      "File \u001b[1;32mc:\\Users\\85253\\.conda\\envs\\AE567p4\\lib\\site-packages\\matlabengineforpython-r2022a-py3.8.egg\\matlab\\engine\\matlabengine.py:70\u001b[0m, in \u001b[0;36mMatlabFunc.__call__\u001b[1;34m(self, *args, **kwargs)\u001b[0m\n\u001b[0;32m     68\u001b[0m     \u001b[39mreturn\u001b[39;00m FutureResult(\u001b[39mself\u001b[39m\u001b[39m.\u001b[39m_engine(), future, nargs, _stdout, _stderr, feval\u001b[39m=\u001b[39m\u001b[39mTrue\u001b[39;00m)\n\u001b[0;32m     69\u001b[0m \u001b[39melse\u001b[39;00m:\n\u001b[1;32m---> 70\u001b[0m     \u001b[39mreturn\u001b[39;00m FutureResult(\u001b[39mself\u001b[39;49m\u001b[39m.\u001b[39;49m_engine(), future, nargs, _stdout,\n\u001b[0;32m     71\u001b[0m                         _stderr, feval\u001b[39m=\u001b[39;49m\u001b[39mTrue\u001b[39;49;00m)\u001b[39m.\u001b[39;49mresult()\n",
      "File \u001b[1;32mc:\\Users\\85253\\.conda\\envs\\AE567p4\\lib\\site-packages\\matlabengineforpython-r2022a-py3.8.egg\\matlab\\engine\\futureresult.py:67\u001b[0m, in \u001b[0;36mFutureResult.result\u001b[1;34m(self, timeout)\u001b[0m\n\u001b[0;32m     64\u001b[0m     \u001b[39mif\u001b[39;00m timeout \u001b[39m<\u001b[39m \u001b[39m0\u001b[39m:\n\u001b[0;32m     65\u001b[0m         \u001b[39mraise\u001b[39;00m \u001b[39mTypeError\u001b[39;00m(pythonengine\u001b[39m.\u001b[39mgetMessage(\u001b[39m'\u001b[39m\u001b[39mTimeoutCannotBeNegative\u001b[39m\u001b[39m'\u001b[39m))\n\u001b[1;32m---> 67\u001b[0m \u001b[39mreturn\u001b[39;00m \u001b[39mself\u001b[39;49m\u001b[39m.\u001b[39;49m__future\u001b[39m.\u001b[39;49mresult(timeout)\n",
      "File \u001b[1;32mc:\\Users\\85253\\.conda\\envs\\AE567p4\\lib\\site-packages\\matlabengineforpython-r2022a-py3.8.egg\\matlab\\engine\\fevalfuture.py:82\u001b[0m, in \u001b[0;36mFevalFuture.result\u001b[1;34m(self, timeout)\u001b[0m\n\u001b[0;32m     79\u001b[0m \u001b[39mif\u001b[39;00m \u001b[39mnot\u001b[39;00m result_ready:\n\u001b[0;32m     80\u001b[0m     \u001b[39mraise\u001b[39;00m \u001b[39mTimeoutError\u001b[39;00m(pythonengine\u001b[39m.\u001b[39mgetMessage(\u001b[39m'\u001b[39m\u001b[39mMatlabFunctionTimeout\u001b[39m\u001b[39m'\u001b[39m))\n\u001b[1;32m---> 82\u001b[0m \u001b[39mself\u001b[39m\u001b[39m.\u001b[39m_result \u001b[39m=\u001b[39m pythonengine\u001b[39m.\u001b[39;49mgetFEvalResult(\u001b[39mself\u001b[39;49m\u001b[39m.\u001b[39;49m_future,\u001b[39mself\u001b[39;49m\u001b[39m.\u001b[39;49m_nargout, \u001b[39mNone\u001b[39;49;00m, out\u001b[39m=\u001b[39;49m\u001b[39mself\u001b[39;49m\u001b[39m.\u001b[39;49m_out, err\u001b[39m=\u001b[39;49m\u001b[39mself\u001b[39;49m\u001b[39m.\u001b[39;49m_err)\n\u001b[0;32m     83\u001b[0m \u001b[39mself\u001b[39m\u001b[39m.\u001b[39m_retrieved \u001b[39m=\u001b[39m \u001b[39mTrue\u001b[39;00m\n\u001b[0;32m     84\u001b[0m \u001b[39mreturn\u001b[39;00m \u001b[39mself\u001b[39m\u001b[39m.\u001b[39m_result\n",
      "\u001b[1;31mEngineError\u001b[0m: MATLAB function cannot be evaluated"
     ]
    }
   ],
   "source": [
    "s = env.reset()\n",
    "record = env.unwrapped.state\n",
    "coe, sys_bar, region, sys_d2 = build_barrier(eng)\n",
    "# kk = record.tolist()\n",
    "# s1 = kk[0]\n",
    "# s2 = kk[1]\n",
    "# k = validate_safe_state(s1, s2, sys_bar, region, sys_d2, eng)\n",
    "# print(k)"
   ]
  },
  {
   "cell_type": "code",
   "execution_count": null,
   "metadata": {},
   "outputs": [],
   "source": []
  },
  {
   "cell_type": "code",
   "execution_count": null,
   "metadata": {},
   "outputs": [],
   "source": []
  },
  {
   "cell_type": "code",
   "execution_count": null,
   "metadata": {},
   "outputs": [],
   "source": []
  }
 ],
 "metadata": {
  "kernelspec": {
   "display_name": "Python 3.8.0 ('AE567p4')",
   "language": "python",
   "name": "python3"
  },
  "language_info": {
   "codemirror_mode": {
    "name": "ipython",
    "version": 3
   },
   "file_extension": ".py",
   "mimetype": "text/x-python",
   "name": "python",
   "nbconvert_exporter": "python",
   "pygments_lexer": "ipython3",
   "version": "3.8.15"
  },
  "orig_nbformat": 4,
  "vscode": {
   "interpreter": {
    "hash": "742a833019a76c8fdf4142b1bb1cd0019b052c9fd25efd7c881ba12c9538e95d"
   }
  }
 },
 "nbformat": 4,
 "nbformat_minor": 2
}
