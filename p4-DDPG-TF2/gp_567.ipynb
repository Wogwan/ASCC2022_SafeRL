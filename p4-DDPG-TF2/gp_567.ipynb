{
 "cells": [
  {
   "cell_type": "code",
   "execution_count": 2,
   "metadata": {},
   "outputs": [],
   "source": [
    "%matplotlib inline\n",
    "from ipywidgets import interact, interactive, fixed, interact_manual\n",
    "import ipywidgets as widgets\n",
    "import numpy as np\n",
    "import matplotlib.pyplot as plt\n",
    "import matplotlib"
   ]
  },
  {
   "cell_type": "markdown",
   "metadata": {},
   "source": [
    "# Polynomial GP"
   ]
  },
  {
   "cell_type": "code",
   "execution_count": 19,
   "metadata": {},
   "outputs": [],
   "source": [
    "def build_covariance(x, xp, kern):\n",
    "    \"\"\"Build a covariance matrix\n",
    "    Inputs\n",
    "    -------\n",
    "    x: (N, 2) array of inputs\n",
    "    xp: (M, 2) array of inptus\n",
    "    kern: a function mapping inputs to covariance\n",
    "    Outputs\n",
    "    -------\n",
    "    cov: (N, M) covariance matrix\n",
    "    \"\"\"\n",
    "    out = np.zeros((x.shape[0], xp.shape[0]))\n",
    "    for jj in range(xp.shape[0]):\n",
    "        out[:, jj] = kern(x, xp[jj])\n",
    "    return out\n"
   ]
  },
  {
   "cell_type": "code",
   "execution_count": 20,
   "metadata": {},
   "outputs": [],
   "source": [
    "def gpr(xtrain, ytrain, xpred, noise_var, mean_func, kernel):\n",
    "    \"\"\"Gaussian process regression Algorithm\n",
    "\n",
    "    Inputs\n",
    "    -------\n",
    "    xtrain: (N, ) training inputs\n",
    "    ytrain: (N, ) training outputs\n",
    "    xpred:  (M, ) locations at which to make predictions\n",
    "    noise_var: (N, ) noise at every training output\n",
    "    mean_func: function to compute the prior mean\n",
    "    kernel: covariance kernel\n",
    "    \n",
    "    Returns\n",
    "    -------\n",
    "    pred_mean : (M, ) predicted mean at prediction points\n",
    "    pred_cov : (M, M) predicted covariance at the prediction points\n",
    "    --\n",
    "    \"\"\"\n",
    "    cov = build_covariance(xtrain, xtrain, kernel)\n",
    "    u, s, v = np.linalg.svd(cov)\n",
    "    sqrtcov = np.dot(u, np.sqrt(np.diag(s)))\n",
    "\n",
    "    # pseudoinverse is better conditioned\n",
    "    invcov = np.linalg.pinv(cov + np.diag(noise_var))\n",
    "\n",
    "    vec_pred = build_covariance(xpred, xtrain, kernel)\n",
    "    pred_mean = mean_func(xpred) + np.dot(vec_pred, np.dot(invcov, ytrain - mean_func(xtrain)))\n",
    "    \n",
    "    cov_predict_pre = build_covariance(xpred, xpred, kernel)\n",
    "    cov_predict_up = np.dot(vec_pred, np.dot(invcov, vec_pred.T))\n",
    "    pred_cov = cov_predict_pre - cov_predict_up\n",
    "    \n",
    "    return pred_mean, pred_cov"
   ]
  },
  {
   "cell_type": "code",
   "execution_count": 21,
   "metadata": {},
   "outputs": [],
   "source": [
    "def sqexp(x, xp, tau=1, l=0.5):\n",
    "    \"\"\"Squared exponential kernel (1 dimensional)\n",
    "    \n",
    "    Inputs\n",
    "    ------\n",
    "    x : (N), array of multiple inputs\n",
    "    xp: float\n",
    "    \n",
    "    Returns\n",
    "    -------\n",
    "    cov (N,) -- Covariance between each input at *x* and the function values at *x*\n",
    "    \"\"\"\n",
    "    cov = tau**2 * np.exp(-1/2 * (x - xp)**2 / l**2)\n",
    "    return cov\n",
    "\n",
    "def periodic(x, xp, tau=1, l=1.0, p=0.4):\n",
    "    \"\"\"Periodic kernel\"\"\"\n",
    "    return tau**2 * np.exp ( -2 * np.sin(np.pi * np.abs(x - xp) / p )**2 / l**2)\n",
    "\n",
    "def poly(x, xp, c=1, d=3):\n",
    "    \"\"\"Polynomial kernel\"\"\"\n",
    "    return (x * xp + c)**d\n",
    "    \n",
    "KERNELS = {\"Sq.Exp\":sqexp, \"Periodic\":periodic, \"Poly\":poly}"
   ]
  },
  {
   "cell_type": "code",
   "execution_count": 22,
   "metadata": {},
   "outputs": [],
   "source": [
    "def plot_function_gp(axis, pred_mean, predict_cov, xdata, ydata, xpred, ytrue, title, label):\n",
    "    axis.plot(xdata, ydata, 'o', ms=10, label='data')\n",
    "    axis.plot(xpred, ytrue, '-', lw=3, color='black', label='true function')\n",
    "    axis.plot(xpred, pred_mean, 'r--', lw=3, label=label)\n",
    "    pred_fstd = np.sqrt(np.diag(predict_cov))\n",
    "    axis.fill_between(xpred, pred_mean - 2*pred_fstd, pred_mean+2*pred_fstd, lw=3, label=r'2$\\sigma$', color='red', alpha=0.2)\n",
    "    axis.legend()\n",
    "    axis.set_title(title, fontsize=14)"
   ]
  },
  {
   "cell_type": "code",
   "execution_count": 28,
   "metadata": {},
   "outputs": [],
   "source": [
    "def true_function(x):\n",
    "    #return np.exp(-x**2 / 0.1)*np.sin(10*x) #- x**3\n",
    "    return 5*x**5*np.sin(20*x) + 0.2*x**6 - x - 0.5\n",
    "    # return np.sin(9.5 * np.pi * x) + 10.0\n",
    "\n",
    "XSPACE = np.linspace(-1,1,300)\n",
    "NUM_DATA = 20\n",
    "NOISE_COV = 1e-3\n",
    "#NOISE_COV = 1e-2\n",
    "\n",
    "#XDATA = np.random.rand(NUM_DATA)*2.0 - 1.0 # randomly spaced data\n",
    "XDATA = np.linspace(-1, 1, NUM_DATA) # linearly space data\n",
    "YDATA = true_function(XDATA) + np.random.randn(NUM_DATA)*np.sqrt(NOISE_COV)\n",
    "YTRUE = true_function(XSPACE)   "
   ]
  },
  {
   "cell_type": "code",
   "execution_count": 36,
   "metadata": {},
   "outputs": [],
   "source": [
    "def gp_regression_demo(mean_func, kernel, xdata, ydata, xtrue, ytrue, noise_cov=1e-1):\n",
    "    \n",
    "    prior_mean = mean_func(xtrue)\n",
    "    print(xtrue.shape)\n",
    "    prior_cov = build_covariance(xtrue, xtrue, kernel)\n",
    "    fig, axis = plt.subplots(1, 2, figsize=(15, 5))\n",
    "    plot_function_gp(axis[0], prior_mean, prior_cov, xdata, ydata, xtrue, ytrue, \"Prior\", \"Prior mean\")\n",
    "    \n",
    "    # perform inference\n",
    "    mean_predict, cov_predict = gpr(xdata, ydata, xtrue, noise_cov * np.ones((xdata.shape[0])), mean_func, kernel)\n",
    "    print(mean_predict.shape)\n",
    "    plot_function_gp(axis[1], mean_predict, cov_predict, xdata, ydata, xtrue, ytrue, \"Posterior\", \"Posterior mean\")\n",
    "    plt.show()\n",
    "\n",
    "# always use zero mean\n",
    "MEANF = lambda x: np.zeros((x.shape[0]))\n",
    "#MEANF = lambda x: 10*x**2\n",
    "#MEANF = lambda x: true_function(x)"
   ]
  },
  {
   "cell_type": "code",
   "execution_count": 33,
   "metadata": {},
   "outputs": [
    {
     "data": {
      "application/vnd.jupyter.widget-view+json": {
       "model_id": "cabdef15de6f40569ee8ce2c3c5ca8f6",
       "version_major": 2,
       "version_minor": 0
      },
      "text/plain": [
       "interactive(children=(FloatSlider(value=1.0, description='tau', max=2.0, min=0.5, step=0.2), FloatSlider(value…"
      ]
     },
     "metadata": {},
     "output_type": "display_data"
    }
   ],
   "source": [
    "# Squared Exponential Kernel\n",
    "@interact_manual(tau=(0.5,2,0.2), log_width=(-4, 1, 0.1), log_noise_learn=(-10,0,1))\n",
    "def sqexp_infer(tau=1, log_width=-1, log_noise_learn=np.log10(NOISE_COV)):\n",
    "    kernel_tot = KERNELS['Sq.Exp']\n",
    "    def kernel(x, xp):\n",
    "        return kernel_tot(x, xp, tau=tau, l=10**log_width)\n",
    "    gp_regression_demo(MEANF, kernel, XDATA, YDATA, XSPACE, YTRUE, noise_cov=10**log_noise_learn)"
   ]
  },
  {
   "cell_type": "code",
   "execution_count": 37,
   "metadata": {},
   "outputs": [
    {
     "data": {
      "application/vnd.jupyter.widget-view+json": {
       "model_id": "75cea42e6cdc4341bf9c3188315f5a07",
       "version_major": 2,
       "version_minor": 0
      },
      "text/plain": [
       "interactive(children=(FloatSlider(value=0.0, description='c', max=1.0), IntSlider(value=2, description='d', ma…"
      ]
     },
     "metadata": {},
     "output_type": "display_data"
    }
   ],
   "source": [
    "# Polynomial Kernel\n",
    "@interact_manual(c=(0,1,0.1), d=(2, 16, 1), log_noise_learn=(-10,0,1))\n",
    "def poly_infer(c=0, d=-1, log_noise_learn=np.log10(NOISE_COV)):\n",
    "    kernel_tot = KERNELS['Poly']\n",
    "    def kernel(x, xp):\n",
    "        return kernel_tot(x, xp, c=c, d=d)\n",
    "    gp_regression_demo(MEANF, kernel, XDATA, YDATA, XSPACE, YTRUE, noise_cov=10**log_noise_learn)"
   ]
  },
  {
   "cell_type": "markdown",
   "metadata": {},
   "source": [
    "# Generate Pendulum"
   ]
  },
  {
   "cell_type": "code",
   "execution_count": null,
   "metadata": {},
   "outputs": [],
   "source": [
    "def true_function(x1,x2,u):\n",
    "    #return np.exp(-x**2 / 0.1)*np.sin(10*x) #- x**3\n",
    "    # return 5*x**5*np.sin(20*x) + 0.2*x**6 - x - 0.5\n",
    "    #return np.sin(9.5 * np.pi * x) + 10.0\n",
    "    return 10/10*x1-1/(1*1.4**2)*x2+1/(1*1.4**2)*u"
   ]
  }
 ],
 "metadata": {
  "kernelspec": {
   "display_name": "Python 3.8.0 ('AE567p4')",
   "language": "python",
   "name": "python3"
  },
  "language_info": {
   "codemirror_mode": {
    "name": "ipython",
    "version": 3
   },
   "file_extension": ".py",
   "mimetype": "text/x-python",
   "name": "python",
   "nbconvert_exporter": "python",
   "pygments_lexer": "ipython3",
   "version": "3.8.15"
  },
  "orig_nbformat": 4,
  "vscode": {
   "interpreter": {
    "hash": "742a833019a76c8fdf4142b1bb1cd0019b052c9fd25efd7c881ba12c9538e95d"
   }
  }
 },
 "nbformat": 4,
 "nbformat_minor": 2
}
